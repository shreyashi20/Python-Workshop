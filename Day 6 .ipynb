{
 "cells": [
  {
   "cell_type": "code",
   "execution_count": 24,
   "metadata": {},
   "outputs": [
    {
     "name": "stderr",
     "output_type": "stream",
     "text": [
      "C:\\ProgramData\\Anaconda3\\lib\\importlib\\_bootstrap.py:219: RuntimeWarning: numpy.ufunc size changed, may indicate binary incompatibility. Expected 192 from C header, got 216 from PyObject\n",
      "  return f(*args, **kwds)\n"
     ]
    },
    {
     "ename": "AttributeError",
     "evalue": "module 'math' has no attribute 'facotrial'",
     "output_type": "error",
     "traceback": [
      "\u001b[1;31m---------------------------------------------------------------------------\u001b[0m",
      "\u001b[1;31mAttributeError\u001b[0m                            Traceback (most recent call last)",
      "\u001b[1;32m<ipython-input-24-f28d069cfae3>\u001b[0m in \u001b[0;36m<module>\u001b[1;34m\u001b[0m\n\u001b[0;32m      1\u001b[0m \u001b[1;32mimport\u001b[0m \u001b[0mscipy\u001b[0m\u001b[1;33m.\u001b[0m\u001b[0mspecial\u001b[0m\u001b[1;33m\u001b[0m\u001b[1;33m\u001b[0m\u001b[0m\n\u001b[0;32m      2\u001b[0m \u001b[1;32mimport\u001b[0m \u001b[0mmath\u001b[0m\u001b[1;33m\u001b[0m\u001b[1;33m\u001b[0m\u001b[0m\n\u001b[1;32m----> 3\u001b[1;33m \u001b[0mmath\u001b[0m\u001b[1;33m.\u001b[0m\u001b[0mfacotrial\u001b[0m\u001b[1;33m(\u001b[0m\u001b[1;36m5\u001b[0m\u001b[1;33m)\u001b[0m\u001b[1;33m\u001b[0m\u001b[1;33m\u001b[0m\u001b[0m\n\u001b[0m\u001b[0;32m      4\u001b[0m \u001b[1;33m\u001b[0m\u001b[0m\n\u001b[0;32m      5\u001b[0m \u001b[1;33m\u001b[0m\u001b[0m\n",
      "\u001b[1;31mAttributeError\u001b[0m: module 'math' has no attribute 'facotrial'"
     ]
    }
   ],
   "source": [
    "\n",
    "                "
   ]
  },
  {
   "cell_type": "code",
   "execution_count": 2,
   "metadata": {},
   "outputs": [
    {
     "name": "stdout",
     "output_type": "stream",
     "text": [
      "Help on built-in function accumulate:\n",
      "\n",
      "accumulate(...) method of numpy.ufunc instance\n",
      "    accumulate(array, axis=0, dtype=None, out=None)\n",
      "    \n",
      "    Accumulate the result of applying the operator to all elements.\n",
      "    \n",
      "    For a one-dimensional array, accumulate produces results equivalent to::\n",
      "    \n",
      "      r = np.empty(len(A))\n",
      "      t = op.identity        # op = the ufunc being applied to A's  elements\n",
      "      for i in range(len(A)):\n",
      "          t = op(t, A[i])\n",
      "          r[i] = t\n",
      "      return r\n",
      "    \n",
      "    For example, add.accumulate() is equivalent to np.cumsum().\n",
      "    \n",
      "    For a multi-dimensional array, accumulate is applied along only one\n",
      "    axis (axis zero by default; see Examples below) so repeated use is\n",
      "    necessary if one wants to accumulate over multiple axes.\n",
      "    \n",
      "    Parameters\n",
      "    ----------\n",
      "    array : array_like\n",
      "        The array to act on.\n",
      "    axis : int, optional\n",
      "        The axis along which to apply the accumulation; default is zero.\n",
      "    dtype : data-type code, optional\n",
      "        The data-type used to represent the intermediate results. Defaults\n",
      "        to the data-type of the output array if such is provided, or the\n",
      "        the data-type of the input array if no output array is provided.\n",
      "    out : ndarray, None, or tuple of ndarray and None, optional\n",
      "        A location into which the result is stored. If not provided or `None`,\n",
      "        a freshly-allocated array is returned. For consistency with\n",
      "        :ref:`ufunc.__call__`, if given as a keyword, this may be wrapped in a\n",
      "        1-element tuple.\n",
      "    \n",
      "        .. versionchanged:: 1.13.0\n",
      "           Tuples are allowed for keyword argument.\n",
      "    \n",
      "    Returns\n",
      "    -------\n",
      "    r : ndarray\n",
      "        The accumulated values. If `out` was supplied, `r` is a reference to\n",
      "        `out`.\n",
      "    \n",
      "    Examples\n",
      "    --------\n",
      "    1-D array examples:\n",
      "    \n",
      "    >>> np.add.accumulate([2, 3, 5])\n",
      "    array([ 2,  5, 10])\n",
      "    >>> np.multiply.accumulate([2, 3, 5])\n",
      "    array([ 2,  6, 30])\n",
      "    \n",
      "    2-D array examples:\n",
      "    \n",
      "    >>> I = np.eye(2)\n",
      "    >>> I\n",
      "    array([[ 1.,  0.],\n",
      "           [ 0.,  1.]])\n",
      "    \n",
      "    Accumulate along axis 0 (rows), down columns:\n",
      "    \n",
      "    >>> np.add.accumulate(I, 0)\n",
      "    array([[ 1.,  0.],\n",
      "           [ 1.,  1.]])\n",
      "    >>> np.add.accumulate(I) # no axis specified = axis zero\n",
      "    array([[ 1.,  0.],\n",
      "           [ 1.,  1.]])\n",
      "    \n",
      "    Accumulate along axis 1 (columns), through rows:\n",
      "    \n",
      "    >>> np.add.accumulate(I, 1)\n",
      "    array([[ 1.,  1.],\n",
      "           [ 0.,  1.]])\n",
      "\n"
     ]
    }
   ],
   "source": [
    "import numpy as np\n",
    "help(np.multiply.accumulate)"
   ]
  },
  {
   "cell_type": "code",
   "execution_count": 8,
   "metadata": {},
   "outputs": [
    {
     "name": "stdout",
     "output_type": "stream",
     "text": [
      "[[40 15 72 22 43 82 75  7 34 49]\n",
      " [95 75 85 47 63 31 90 20 37 39]\n",
      " [67  4 42 51 38 33 58 67 69 88]\n",
      " [68 46 70 95 83 31 66 80 52 76]\n",
      " [50  4 90 63 79 49 39 46  8 50]\n",
      " [15  8 17 22 73 57 90 62 83 96]]\n"
     ]
    }
   ],
   "source": [
    "import numpy as np\n",
    "rand= np.random.RandomState(2)\n",
    "x= rand.randint(100, size=(6,10))\n",
    "print(x)"
   ]
  },
  {
   "cell_type": "code",
   "execution_count": 7,
   "metadata": {},
   "outputs": [
    {
     "data": {
      "text/plain": [
       "[40, 7]"
      ]
     },
     "execution_count": 7,
     "metadata": {},
     "output_type": "execute_result"
    }
   ],
   "source": [
    " [x[0], x[7]]"
   ]
  },
  {
   "cell_type": "code",
   "execution_count": 11,
   "metadata": {},
   "outputs": [
    {
     "data": {
      "text/plain": [
       "array([[40, 15, 72, 22, 43, 82, 75,  7, 34, 49],\n",
       "       [50,  4, 90, 63, 79, 49, 39, 46,  8, 50],\n",
       "       [68, 46, 70, 95, 83, 31, 66, 80, 52, 76]])"
      ]
     },
     "execution_count": 11,
     "metadata": {},
     "output_type": "execute_result"
    }
   ],
   "source": [
    "ind=[0,4,3]\n",
    "x[ind]"
   ]
  },
  {
   "cell_type": "code",
   "execution_count": 22,
   "metadata": {},
   "outputs": [],
   "source": [
    "row=np.array([0,1,2])\n",
    "col=np.array([0,1,2])\n"
   ]
  },
  {
   "cell_type": "code",
   "execution_count": 23,
   "metadata": {},
   "outputs": [
    {
     "data": {
      "text/plain": [
       "array([[40, 15, 72],\n",
       "       [95, 75, 85],\n",
       "       [67,  4, 42]])"
      ]
     },
     "execution_count": 23,
     "metadata": {},
     "output_type": "execute_result"
    }
   ],
   "source": [
    "x[row[:, np.newaxis], col]"
   ]
  },
  {
   "cell_type": "code",
   "execution_count": 25,
   "metadata": {},
   "outputs": [
    {
     "name": "stderr",
     "output_type": "stream",
     "text": [
      "C:\\ProgramData\\Anaconda3\\lib\\site-packages\\ipykernel_launcher.py:3: RuntimeWarning: covariance is not symmetric positive-semidefinite.\n",
      "  This is separate from the ipykernel package so we can avoid doing imports until\n"
     ]
    },
    {
     "data": {
      "text/plain": [
       "array([[ 1.40678456e+00,  2.04307294e+00],\n",
       "       [ 8.78271450e-01, -1.64757766e+00],\n",
       "       [ 2.00650674e+00,  6.27410605e+00],\n",
       "       [ 1.58621992e+00,  4.29462043e+00],\n",
       "       [ 3.40769531e-01,  1.18789734e+00],\n",
       "       [ 1.55062054e+00,  5.28771252e+00],\n",
       "       [ 5.99762488e-01,  2.22102522e+00],\n",
       "       [ 2.52209653e+00,  3.45971253e+00],\n",
       "       [ 8.87716715e-01,  1.45037531e+00],\n",
       "       [-4.60408747e-01,  4.14842409e+00],\n",
       "       [ 5.09510189e-01,  2.14864241e+00],\n",
       "       [ 1.25467913e+00,  2.79499457e+00],\n",
       "       [-7.73004611e-01, -1.39673826e+00],\n",
       "       [-8.82410655e-01,  2.07545617e+00],\n",
       "       [ 2.11993904e+00,  3.85464178e+00],\n",
       "       [ 1.16823058e+00,  1.28747916e+00],\n",
       "       [ 7.19896566e-01,  2.15655948e+00],\n",
       "       [ 1.43189793e+00,  5.79198546e-02],\n",
       "       [-1.44593626e+00, -2.67502133e+00],\n",
       "       [-1.89977404e-01,  5.24103804e+00],\n",
       "       [ 7.62877173e-01,  2.62172952e+00],\n",
       "       [ 2.84311186e+00,  4.31057633e+00],\n",
       "       [-5.90147172e-01,  2.64292524e+00],\n",
       "       [ 3.29853377e+00,  5.48633119e+00],\n",
       "       [ 9.01201593e-01,  1.87904170e+00],\n",
       "       [ 1.84303041e+00,  3.61114811e+00],\n",
       "       [ 2.43231890e+00,  2.92026996e+00],\n",
       "       [ 3.80149102e-01, -1.11398611e+00],\n",
       "       [ 1.14522915e+00,  3.89668047e+00],\n",
       "       [-4.03571995e-02,  6.38220554e+00],\n",
       "       [ 2.37603220e+00,  5.35110071e+00],\n",
       "       [ 3.77566002e-01,  4.08141287e-01],\n",
       "       [ 3.02831299e+00,  1.39510834e+00],\n",
       "       [ 3.02370206e+00,  6.77737260e+00],\n",
       "       [-1.58254229e-01,  1.67093696e+00],\n",
       "       [ 2.12858726e-01,  2.50858805e+00],\n",
       "       [-3.27679718e-01,  1.28091421e+00],\n",
       "       [ 2.94855855e-01,  2.59752562e+00],\n",
       "       [-4.47058754e-01,  1.84253065e+00],\n",
       "       [ 1.95783907e+00,  9.01726266e+00],\n",
       "       [ 4.76279794e-01,  6.48209957e-01],\n",
       "       [ 1.08913149e+00,  2.14931973e+00],\n",
       "       [ 2.83322261e+00,  4.25048562e+00],\n",
       "       [ 7.85009457e-01,  4.98014348e+00],\n",
       "       [ 4.16924902e-01,  6.03086529e+00],\n",
       "       [ 4.55317026e-01,  2.93786075e+00],\n",
       "       [ 5.82875653e-01,  5.05010221e-01],\n",
       "       [ 1.74385264e+00,  2.23102027e+00],\n",
       "       [ 4.34370588e-01, -4.93911927e-01],\n",
       "       [ 1.55521824e+00,  4.02227425e+00],\n",
       "       [-4.85383160e-01,  4.71462155e-02],\n",
       "       [-2.22697834e+00,  4.46977470e-01],\n",
       "       [ 4.77938321e+00,  9.68265124e+00],\n",
       "       [ 2.21241270e+00,  7.00593457e+00],\n",
       "       [ 2.23911776e+00,  4.23758584e+00],\n",
       "       [ 1.53808539e+00,  4.28984992e+00],\n",
       "       [-1.04311840e+00,  3.27227513e+00],\n",
       "       [ 1.91905124e+00,  4.15374765e+00],\n",
       "       [ 1.75011795e+00,  5.50062727e+00],\n",
       "       [ 2.15082358e+00,  6.90373901e+00],\n",
       "       [ 7.17908383e-01, -4.03861323e-02],\n",
       "       [-5.32046899e-01,  2.45676612e+00],\n",
       "       [ 1.78362175e+00,  2.98932809e+00],\n",
       "       [ 1.65695446e+00,  3.33506908e+00],\n",
       "       [ 5.38329292e+00,  1.15171955e+01],\n",
       "       [ 5.96254590e-01,  7.01941008e+00],\n",
       "       [ 2.01285065e+00,  3.49852452e+00],\n",
       "       [-1.02940966e-01,  2.54023672e+00],\n",
       "       [ 1.07282296e+00,  3.96703115e+00],\n",
       "       [ 1.49413493e+00,  1.30210637e+00],\n",
       "       [ 2.45658467e+00,  5.75543397e+00],\n",
       "       [ 1.05347541e+00,  1.83552718e+00],\n",
       "       [ 2.29821545e+00,  4.54823907e+00],\n",
       "       [-5.92788976e-01,  4.73695832e-03],\n",
       "       [ 1.87256058e+00,  3.54174609e+00],\n",
       "       [ 2.52856656e+00,  4.78308567e+00],\n",
       "       [-6.37563601e-01,  8.25641092e-01],\n",
       "       [ 1.51841066e+00, -2.86464455e-01],\n",
       "       [ 1.65224984e+00,  3.18353591e+00],\n",
       "       [ 1.62597803e+00,  5.33864197e+00],\n",
       "       [-4.02640482e-01,  6.86373552e-01],\n",
       "       [ 2.20326363e+00,  2.12902143e+00],\n",
       "       [ 8.06618892e-01,  5.26702477e+00],\n",
       "       [ 2.24400077e+00,  4.15514643e+00],\n",
       "       [-4.01890413e-02,  7.61666873e-01],\n",
       "       [-3.51417584e-01, -1.09374414e+00],\n",
       "       [-4.81035839e-01,  2.81953874e+00],\n",
       "       [ 5.92578583e-01,  1.41295237e+00],\n",
       "       [ 7.74671881e-01,  1.70273974e+00],\n",
       "       [ 7.44123983e-01,  4.49586293e+00],\n",
       "       [ 2.62926619e+00,  1.53981669e+00],\n",
       "       [ 3.54730714e-01,  3.57184370e+00],\n",
       "       [-1.36432958e-01,  3.62278095e+00],\n",
       "       [ 2.33642225e+00,  5.29514135e+00],\n",
       "       [ 2.76759711e+00,  4.99849585e+00],\n",
       "       [ 2.21439222e+00,  3.47852588e+00],\n",
       "       [ 5.81539410e-01,  3.65511427e+00],\n",
       "       [-3.08537842e-01,  9.68010206e-01],\n",
       "       [ 3.95861868e-01, -3.05065142e+00],\n",
       "       [-5.92188672e-01, -6.51145185e-01]])"
      ]
     },
     "execution_count": 25,
     "metadata": {},
     "output_type": "execute_result"
    }
   ],
   "source": [
    "mean=[1,3]\n",
    "cov=[[1,0],[2,5]]\n",
    "x=rand.multivariate_normal(mean, cov, 100)\n",
    "x"
   ]
  },
  {
   "cell_type": "code",
   "execution_count": 26,
   "metadata": {},
   "outputs": [
    {
     "name": "stderr",
     "output_type": "stream",
     "text": [
      "C:\\ProgramData\\Anaconda3\\lib\\site-packages\\ipykernel_launcher.py:3: RuntimeWarning: covariance is not symmetric positive-semidefinite.\n",
      "  This is separate from the ipykernel package so we can avoid doing imports until\n"
     ]
    },
    {
     "data": {
      "text/plain": [
       "(100, 2)"
      ]
     },
     "execution_count": 26,
     "metadata": {},
     "output_type": "execute_result"
    }
   ],
   "source": [
    "mean=[1,3]\n",
    "cov=[[1,0],[2,5]]\n",
    "x=rand.multivariate_normal(mean, cov, 100)\n",
    "x.shape"
   ]
  },
  {
   "cell_type": "code",
   "execution_count": 29,
   "metadata": {},
   "outputs": [
    {
     "name": "stderr",
     "output_type": "stream",
     "text": [
      "C:\\ProgramData\\Anaconda3\\lib\\site-packages\\ipykernel_launcher.py:3: RuntimeWarning: covariance is not symmetric positive-semidefinite.\n",
      "  This is separate from the ipykernel package so we can avoid doing imports until\n"
     ]
    },
    {
     "data": {
      "text/plain": [
       "<matplotlib.collections.PathCollection at 0x2e647a673c8>"
      ]
     },
     "execution_count": 29,
     "metadata": {},
     "output_type": "execute_result"
    },
    {
     "data": {
      "image/png": "[encoded data removed]",
      "text/plain": [
       "<Figure size 432x288 with 1 Axes>"
      ]
     },
     "metadata": {
      "needs_background": "light"
     },
     "output_type": "display_data"
    }
   ],
   "source": [
    "mean=[1,3]\n",
    "cov=[[1,0],[2,5]]\n",
    "x=rand.multivariate_normal(mean, cov, 100)\n",
    "x\n",
    "import matplotlib.pyplot as plt\n",
    "plt.scatter(x[:, 0], x[:,1])"
   ]
  },
  {
   "cell_type": "code",
   "execution_count": 42,
   "metadata": {
    "scrolled": true
   },
   "outputs": [
    {
     "data": {
      "text/plain": [
       "<matplotlib.collections.PathCollection at 0x2e647af17b8>"
      ]
     },
     "execution_count": 42,
     "metadata": {},
     "output_type": "execute_result"
    },
    {
     "data": {
      "image/png": "[encoded data removed]",
      "text/plain": [
       "<Figure size 432x288 with 1 Axes>"
      ]
     },
     "metadata": {
      "needs_background": "light"
     },
     "output_type": "display_data"
    }
   ],
   "source": [
    "indices=np.random.choice(x.shape[0], 2, replace=False)\n",
    "indices\n",
    "selection= x[indices]\n",
    "plt.scatter(x[: , 0], x[: , 1], alpha=0.3)\n",
    "plt.scatter(selection[:, 0], selection[:, 1])\n"
   ]
  },
  {
   "cell_type": "code",
   "execution_count": 41,
   "metadata": {},
   "outputs": [
    {
     "data": {
      "text/plain": [
       "4"
      ]
     },
     "execution_count": 41,
     "metadata": {},
     "output_type": "execute_result"
    }
   ],
   "source": [
    "x.shape[0]"
   ]
  },
  {
   "cell_type": "code",
   "execution_count": 28,
   "metadata": {},
   "outputs": [
    {
     "data": {
      "text/plain": [
       "<matplotlib.collections.PathCollection at 0x2e6479db860>"
      ]
     },
     "execution_count": 28,
     "metadata": {},
     "output_type": "execute_result"
    },
    {
     "data": {
      "image/png": "[encoded data removed]",
      "text/plain": [
       "<Figure size 432x288 with 1 Axes>"
      ]
     },
     "metadata": {
      "needs_background": "light"
     },
     "output_type": "display_data"
    }
   ],
   "source": [
    "import matplotlib.pyplot as plt\n",
    "plt.scatter(x[:, 0], x[:,1])"
   ]
  },
  {
   "cell_type": "code",
   "execution_count": 30,
   "metadata": {
    "scrolled": true
   },
   "outputs": [
    {
     "ename": "TypeError",
     "evalue": "int() argument must be a string, a bytes-like object or a number, not 'tuple'",
     "output_type": "error",
     "traceback": [
      "\u001b[1;31m---------------------------------------------------------------------------\u001b[0m",
      "\u001b[1;31mTypeError\u001b[0m                                 Traceback (most recent call last)",
      "\u001b[1;32m<ipython-input-30-01074697c97e>\u001b[0m in \u001b[0;36m<module>\u001b[1;34m\u001b[0m\n\u001b[1;32m----> 1\u001b[1;33m \u001b[0mx\u001b[0m\u001b[1;33m=\u001b[0m\u001b[0mnp\u001b[0m\u001b[1;33m.\u001b[0m\u001b[0mrandom\u001b[0m\u001b[1;33m.\u001b[0m\u001b[0mrandint\u001b[0m\u001b[1;33m(\u001b[0m\u001b[1;33m(\u001b[0m\u001b[1;36m3\u001b[0m\u001b[1;33m,\u001b[0m\u001b[1;36m3\u001b[0m\u001b[1;33m)\u001b[0m\u001b[1;33m,\u001b[0m \u001b[1;36m10\u001b[0m\u001b[1;33m)\u001b[0m\u001b[1;33m\u001b[0m\u001b[1;33m\u001b[0m\u001b[0m\n\u001b[0m",
      "\u001b[1;32mmtrand.pyx\u001b[0m in \u001b[0;36mmtrand.RandomState.randint\u001b[1;34m()\u001b[0m\n",
      "\u001b[1;31mTypeError\u001b[0m: int() argument must be a string, a bytes-like object or a number, not 'tuple'"
     ]
    }
   ],
   "source": []
  },
  {
   "cell_type": "code",
   "execution_count": 37,
   "metadata": {},
   "outputs": [
    {
     "name": "stdout",
     "output_type": "stream",
     "text": [
      "[[9 5 4 8]\n",
      " [1 8 4 5]\n",
      " [2 0 1 4]\n",
      " [8 7 0 8]]\n"
     ]
    }
   ],
   "source": [
    "x=np.random.randint(10, size=(4, 4))\n",
    "print(x)\n"
   ]
  },
  {
   "cell_type": "code",
   "execution_count": 38,
   "metadata": {},
   "outputs": [
    {
     "ename": "SyntaxError",
     "evalue": "can't assign to literal (<ipython-input-38-a60baaf24f5c>, line 1)",
     "output_type": "error",
     "traceback": [
      "\u001b[1;36m  File \u001b[1;32m\"<ipython-input-38-a60baaf24f5c>\"\u001b[1;36m, line \u001b[1;32m1\u001b[0m\n\u001b[1;33m    indices=np.random.choice9x.shape[0], 20, replace=False\u001b[0m\n\u001b[1;37m           ^\u001b[0m\n\u001b[1;31mSyntaxError\u001b[0m\u001b[1;31m:\u001b[0m can't assign to literal\n"
     ]
    }
   ],
   "source": [
    "indices=np.random.choice9x.shape[0], 20, replace=False\n"
   ]
  },
  {
   "cell_type": "code",
   "execution_count": null,
   "metadata": {},
   "outputs": [],
   "source": []
  }
 ],
 "metadata": {
  "kernelspec": {
   "display_name": "Python 3",
   "language": "python",
   "name": "python3"
  },
  "language_info": {
   "codemirror_mode": {
    "name": "ipython",
    "version": 3
   },
   "file_extension": ".py",
   "mimetype": "text/x-python",
   "name": "python",
   "nbconvert_exporter": "python",
   "pygments_lexer": "ipython3",
   "version": "3.7.3"
  }
 },
 "nbformat": 4,
 "nbformat_minor": 2
}
